{
 "cells": [
  {
   "cell_type": "markdown",
   "metadata": {},
   "source": [
    "Write a Python program to print all positive numbers in a range.\n",
    "\n",
    "Your Input and output must look something like this\n",
    "\n",
    "Input: list1 = [12, -7, 5, 64, -14] Output: 12, 5, 64\n",
    "\n",
    "Input: list2 = [12, 14, -95, 3] Output: [12, 14, 3]"
   ]
  },
  {
   "cell_type": "code",
   "execution_count": 11,
   "metadata": {},
   "outputs": [
    {
     "name": "stdout",
     "output_type": "stream",
     "text": [
      "Enter number of elements in a list :5\n",
      "Enter elements in the list:\n",
      "12\n",
      "-7\n",
      "5\n",
      "64\n",
      "-14\n",
      "\n",
      "Input list:[12, -7, 5, 64, -14]\n",
      "\n",
      "Output: [12, 5, 64]\n"
     ]
    }
   ],
   "source": [
    "n=int(input(\"Enter number of elements in a list :\"))\n",
    "a=[]\n",
    "b=[]\n",
    "print(\"Enter elements in the list:\")\n",
    "for i in range(n):\n",
    "    val=int(input())\n",
    "    a.append(val)\n",
    "\n",
    "print(\"\\nInput list:\",end='')\n",
    "print(a)\n",
    "\n",
    "print(\"\\nOutput: \",end='')\n",
    "for i in a:\n",
    "    if(i>0):\n",
    "        b.append(i) \n",
    "print(b)\n"
   ]
  },
  {
   "cell_type": "code",
   "execution_count": null,
   "metadata": {},
   "outputs": [],
   "source": []
  },
  {
   "cell_type": "code",
   "execution_count": null,
   "metadata": {},
   "outputs": [],
   "source": []
  }
 ],
 "metadata": {
  "kernelspec": {
   "display_name": "Python 3",
   "language": "python",
   "name": "python3"
  },
  "language_info": {
   "codemirror_mode": {
    "name": "ipython",
    "version": 3
   },
   "file_extension": ".py",
   "mimetype": "text/x-python",
   "name": "python",
   "nbconvert_exporter": "python",
   "pygments_lexer": "ipython3",
   "version": "3.8.5"
  }
 },
 "nbformat": 4,
 "nbformat_minor": 4
}
