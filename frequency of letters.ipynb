{
 "cells": [
  {
   "cell_type": "markdown",
   "metadata": {},
   "source": [
    "Write Python code to create a function called most_frequent that takes a string and prints the letters in decreasing order of frequency. Use dictionaries.\n",
    "\n",
    "Your Input and output should look something like this\n",
    "\n",
    "Input : Please enter a string Mississippi\n",
    "\n",
    "Output : i = 04 s = 04 p =02 m =01"
   ]
  },
  {
   "cell_type": "code",
   "execution_count": 33,
   "metadata": {},
   "outputs": [
    {
     "name": "stdout",
     "output_type": "stream",
     "text": [
      "Please enter a stringmississippi\n",
      "s = 4 i = 4 p = 2 m = 1 "
     ]
    }
   ],
   "source": [
    "def frequency(string):\n",
    "    dic={}\n",
    "    for char in string:\n",
    "        dic.setdefault(char,0)\n",
    "        dic[char]+=1\n",
    "    dic={k: v for k, v in sorted(dic.items(), key=lambda item: item[1])}\n",
    "    for k, v in reversed(dic.items()):\n",
    "        print(k,\"=\", v,end=' ')\n",
    "\n",
    "string=input(\"Please enter a string\")\n",
    "frequency(string)\n"
   ]
  },
  {
   "cell_type": "markdown",
   "metadata": {},
   "source": []
  }
 ],
 "metadata": {
  "kernelspec": {
   "display_name": "Python 3",
   "language": "python",
   "name": "python3"
  },
  "language_info": {
   "codemirror_mode": {
    "name": "ipython",
    "version": 3
   },
   "file_extension": ".py",
   "mimetype": "text/x-python",
   "name": "python",
   "nbconvert_exporter": "python",
   "pygments_lexer": "ipython3",
   "version": "3.8.5"
  }
 },
 "nbformat": 4,
 "nbformat_minor": 4
}
