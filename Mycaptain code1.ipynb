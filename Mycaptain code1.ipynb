{
 "cells": [
  {
   "cell_type": "markdown",
   "metadata": {},
   "source": [
    "Your task now is to write a Python program which accepts the radius of a circle from the user and computes area.\n",
    "Your Input and Output should look something like this\n",
    "\n",
    "Input the radius of the circle : 1.1 The area of the circle with radius 1.1 is: 3.8013271108436504"
   ]
  },
  {
   "cell_type": "code",
   "execution_count": 10,
   "metadata": {},
   "outputs": [
    {
     "name": "stdout",
     "output_type": "stream",
     "text": [
      "Input the radius of the circle : 1.1\n",
      "The area of the circle with radius 1.1 is: 3.8013271108436504\n"
     ]
    }
   ],
   "source": [
    "import math\n",
    "\n",
    "r=float(input(\"Input the radius of the circle : \"))\n",
    "area=math.pi*r*r\n",
    "print(\"The area of the circle with radius {} is: {}\".format(r,area))\n"
   ]
  },
  {
   "cell_type": "markdown",
   "metadata": {},
   "source": [
    "Your second task now is to write a Python program to accept a filename from the user and print the extension of that.\n",
    "Your Input and Output should look something like this\n",
    "\n",
    "Input the Filename: abc.py The extension of the file is : 'python'"
   ]
  },
  {
   "cell_type": "code",
   "execution_count": 11,
   "metadata": {},
   "outputs": [
    {
     "name": "stdout",
     "output_type": "stream",
     "text": [
      "Input the Filename: abc.py\n",
      "The extention of the file is: 'python'\n"
     ]
    }
   ],
   "source": [
    "di={'py':\"'python'\",'txt':\"'text'\",'bin':\"'binary'\",'c':\"'C'\",'CPP':\"'C++'\",'java':\"'java'\"}\n",
    "\n",
    "f_name=input(\"Input the Filename: \")\n",
    "l=f_name.split('.')\n",
    "\n",
    "if l[1] in di.keys():\n",
    "    print(\"The extention of the file is:\",di[l[1]])"
   ]
  },
  {
   "cell_type": "code",
   "execution_count": null,
   "metadata": {},
   "outputs": [],
   "source": []
  }
 ],
 "metadata": {
  "kernelspec": {
   "display_name": "Python 3",
   "language": "python",
   "name": "python3"
  },
  "language_info": {
   "codemirror_mode": {
    "name": "ipython",
    "version": 3
   },
   "file_extension": ".py",
   "mimetype": "text/x-python",
   "name": "python",
   "nbconvert_exporter": "python",
   "pygments_lexer": "ipython3",
   "version": "3.8.5"
  }
 },
 "nbformat": 4,
 "nbformat_minor": 4
}
