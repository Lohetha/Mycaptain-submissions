{
 "cells": [
  {
   "cell_type": "markdown",
   "metadata": {},
   "source": [
    "School Administration project"
   ]
  },
  {
   "cell_type": "code",
   "execution_count": 1,
   "metadata": {},
   "outputs": [
    {
     "name": "stdout",
     "output_type": "stream",
     "text": [
      "Enter student information in the following format(Name Age Contact_number E-mail_ID): Raman 20 9824536675 ram@gmail.com\n",
      "Enter (yes/no) if you want to continue for another student: yes\n",
      "Enter student information in the following format(Name Age Contact_number E-mail_ID): Sita 19 8973654435 sita@gmail.com\n",
      "Enter (yes/no) if you want to continue for another student: yes\n",
      "Enter student information in the following format(Name Age Contact_number E-mail_ID): Rakesh 20 9786425514 ra@gmail.com\n",
      "Enter (yes/no) if you want to continue for another student: no\n"
     ]
    }
   ],
   "source": [
    "import csv\n",
    "\n",
    "def write_into_csv(info_list):\n",
    "  with open('student_info.csv','a',newline='') as csv_file:\n",
    "    writer=csv.writer(csv_file)\n",
    "\n",
    "    if(csv_file.tell()==0):\n",
    "      writer.writerow([\"Nmae\",\"Age\",\"Contact Number\",\"E-mail ID\"])\n",
    "\n",
    "    writer.writerow(info_list)\n",
    "\n",
    "if __name__=='__main__':\n",
    "  condition=True\n",
    "\n",
    "  while(condition):\n",
    "    student_info=input(\"Enter student information in the following format(Name Age Contact_number E-mail_ID): \")\n",
    "\n",
    "    student_info_list=student_info.split(' ')\n",
    "\n",
    "    write_into_csv(student_info_list)\n",
    "\n",
    "    condition_check=input(\"Enter (yes/no) if you want to continue for another student: \")\n",
    "    if(condition_check==\"yes\"):\n",
    "      condition=True\n",
    "    elif(condition_check==\"no\"):\n",
    "      condition=False"
   ]
  },
  {
   "cell_type": "code",
   "execution_count": 2,
   "metadata": {},
   "outputs": [
    {
     "name": "stdout",
     "output_type": "stream",
     "text": [
      "Nmae,Age,Contact Number,E-mail ID\n",
      "Raman,20,9824536675,ram@gmail.com\n",
      "Sita,19,8973654435,sita@gmail.com\n",
      "Rakesh,20,9786425514,ra@gmail.com\n",
      "\n"
     ]
    }
   ],
   "source": [
    "file=open(\"student_info.csv\",'r')\n",
    "print(file.read())"
   ]
  },
  {
   "cell_type": "code",
   "execution_count": null,
   "metadata": {},
   "outputs": [],
   "source": []
  }
 ],
 "metadata": {
  "kernelspec": {
   "display_name": "Python 3",
   "language": "python",
   "name": "python3"
  },
  "language_info": {
   "codemirror_mode": {
    "name": "ipython",
    "version": 3
   },
   "file_extension": ".py",
   "mimetype": "text/x-python",
   "name": "python",
   "nbconvert_exporter": "python",
   "pygments_lexer": "ipython3",
   "version": "3.8.5"
  }
 },
 "nbformat": 4,
 "nbformat_minor": 4
}
